{
 "cells": [
  {
   "cell_type": "markdown",
   "metadata": {},
   "source": [
    "#                             ASSIGNMENT NO 1 (ROLL NO PY03681)"
   ]
  },
  {
   "cell_type": "markdown",
   "metadata": {},
   "source": [
    "# Q1"
   ]
  },
  {
   "cell_type": "code",
   "execution_count": 6,
   "metadata": {},
   "outputs": [
    {
     "name": "stdout",
     "output_type": "stream",
     "text": [
      "Enter your Physics Marks 40\n",
      "Enter your Chemistry Marks 50\n",
      "Enter your Maths Marks 60\n",
      "Enter your English Marks 70\n",
      "Enter your Urdu Marks 80\n",
      "Congratulation you've been graded with B  \n"
     ]
    }
   ],
   "source": [
    "phy=float(input(\"Enter your Physics Marks \"))\n",
    "chem=float(input(\"Enter your Chemistry Marks \"))\n",
    "maths=float(input(\"Enter your Maths Marks \"))\n",
    "eng=float(input(\"Enter your English Marks \"))\n",
    "urdu=float(input(\"Enter your Urdu Marks \"))\n",
    "\n",
    "gained_marks = phy + chem + maths + eng  + urdu\n",
    "total_marks= 500  #(100 marks each subject)\n",
    "percentage = (gained_marks / total_marks) * 100 \n",
    "\n",
    "if percentage >=80 and percentage<=100 :\n",
    "    print(\"Congratulation you've been graded with A+  \")\n",
    "\n",
    "elif percentage >=70 and percentage<80 :\n",
    "    print(\"Congratulation you've been graded with A  \")\n",
    "\n",
    "elif percentage >=60 and percentage<70 :\n",
    "    print(\"Congratulation you've been graded with B  \")\n",
    "    \n",
    "elif percentage >=50 and percentage<60 :\n",
    "    print(\"Congratulation you've been graded with C  \")\n",
    "\n",
    "elif percentage >=40 and percentage<50 :\n",
    "    print(\"Congratulation you've been graded with D  \")\n",
    "\n",
    "elif percentage >=33 and percentage<40 :\n",
    "    print(\"Congratulation you've been graded with E  \")\n",
    "\n",
    "elif percentage<33:\n",
    "    print(\"Oops ! You're failed better luck next time :) You're graded with F  \")\n",
    "    \n",
    "else:\n",
    "    print(\"You've entered wrong percentage\")\n"
   ]
  },
  {
   "cell_type": "markdown",
   "metadata": {},
   "source": [
    "# Q2"
   ]
  },
  {
   "cell_type": "code",
   "execution_count": 18,
   "metadata": {},
   "outputs": [
    {
     "name": "stdout",
     "output_type": "stream",
     "text": [
      "Enter any number 46\n",
      "The number is even\n"
     ]
    }
   ],
   "source": [
    "number= int(input(\"Enter any number \"))\n",
    "if (number%2 == 0):\n",
    "    print(\"The number is even\")\n",
    "else:\n",
    "    print(\"The number is odd\")"
   ]
  },
  {
   "cell_type": "markdown",
   "metadata": {},
   "source": [
    "# Q3"
   ]
  },
  {
   "cell_type": "code",
   "execution_count": 32,
   "metadata": {},
   "outputs": [
    {
     "name": "stdout",
     "output_type": "stream",
     "text": [
      "The length of list is  7\n"
     ]
    }
   ],
   "source": [
    "list = [\"Omer\",\"Ali\",\"Ayesha\",\"Ayeza\",\"Pakistan\",\"Karachi\",88]\n",
    "print(\"The length of list is \",len(list))"
   ]
  },
  {
   "cell_type": "markdown",
   "metadata": {},
   "source": [
    "# Q4"
   ]
  },
  {
   "cell_type": "code",
   "execution_count": 39,
   "metadata": {},
   "outputs": [
    {
     "name": "stdout",
     "output_type": "stream",
     "text": [
      "The sum of list is   341\n"
     ]
    }
   ],
   "source": [
    "list1 = [24,4,5,8,10,43,100,110,32,5]\n",
    "print(\"The sum of list is  \", sum(list1))"
   ]
  },
  {
   "cell_type": "markdown",
   "metadata": {},
   "source": [
    "# Q5"
   ]
  },
  {
   "cell_type": "code",
   "execution_count": 42,
   "metadata": {},
   "outputs": [
    {
     "data": {
      "text/plain": [
       "[24, 4, 5, 8, 10, 43, 100, 110, 32, 5]"
      ]
     },
     "execution_count": 42,
     "metadata": {},
     "output_type": "execute_result"
    }
   ],
   "source": [
    "list1"
   ]
  },
  {
   "cell_type": "code",
   "execution_count": 43,
   "metadata": {},
   "outputs": [
    {
     "name": "stdout",
     "output_type": "stream",
     "text": [
      "The largest number of the list1 is  110\n"
     ]
    }
   ],
   "source": [
    "print(\"The largest number of the list1 is \",max(list1))"
   ]
  },
  {
   "cell_type": "markdown",
   "metadata": {},
   "source": [
    "# Q6"
   ]
  },
  {
   "cell_type": "code",
   "execution_count": 5,
   "metadata": {},
   "outputs": [],
   "source": [
    "a = [1, 1, 2, 3, 5, 8, 13, 21, 34, 55, 89]"
   ]
  },
  {
   "cell_type": "code",
   "execution_count": 9,
   "metadata": {},
   "outputs": [
    {
     "name": "stdout",
     "output_type": "stream",
     "text": [
      "The smallest number in the list a is   1\n"
     ]
    }
   ],
   "source": [
    "print(\"The smallest number in the list a is  \" ,min(a))"
   ]
  }
 ],
 "metadata": {
  "kernelspec": {
   "display_name": "Python 3",
   "language": "python",
   "name": "python3"
  },
  "language_info": {
   "codemirror_mode": {
    "name": "ipython",
    "version": 3
   },
   "file_extension": ".py",
   "mimetype": "text/x-python",
   "name": "python",
   "nbconvert_exporter": "python",
   "pygments_lexer": "ipython3",
   "version": "3.7.4"
  }
 },
 "nbformat": 4,
 "nbformat_minor": 2
}
