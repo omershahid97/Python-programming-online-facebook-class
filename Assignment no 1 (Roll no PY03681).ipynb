{
 "cells": [
  {
   "cell_type": "markdown",
   "metadata": {},
   "source": [
    "#                             ASSIGNMENT NO 1 (ROLL NO PY03681)"
   ]
  },
  {
   "cell_type": "markdown",
   "metadata": {},
   "source": [
    "# Q1"
   ]
  },
  {
   "cell_type": "code",
   "execution_count": 1,
   "metadata": {},
   "outputs": [],
   "source": [
    "a = \"Twinkle, twinkle, little star \"\n",
    "b = \"How I wonder what you are!\"\n",
    "c = \"Up above the world so high,\"\n",
    "d= \"Like a diamond in the sky.\"\n",
    "e = \"Twinkle, twinkle, little star \"\n",
    "f = \"How I wonder what you are!\""
   ]
  },
  {
   "cell_type": "code",
   "execution_count": 2,
   "metadata": {},
   "outputs": [
    {
     "name": "stdout",
     "output_type": "stream",
     "text": [
      "Twinkle, twinkle, little star \n",
      "\tHow I wonder what you are!\n",
      "\t\tUp above the world so high,\n",
      "\t\tLike a diamond in the sky.\n",
      "Twinkle, twinkle, little star \n",
      "\tHow I wonder what you are!\n"
     ]
    }
   ],
   "source": [
    "print( a + \"\\n\\t\" + b + \"\\n\\t\\t\" + c + \"\\n\\t\\t\" + d + \"\\n\" + e + \"\\n\\t\" + f)"
   ]
  },
  {
   "cell_type": "markdown",
   "metadata": {},
   "source": [
    " # Q2"
   ]
  },
  {
   "cell_type": "code",
   "execution_count": 3,
   "metadata": {},
   "outputs": [
    {
     "name": "stdout",
     "output_type": "stream",
     "text": [
      "3.7.4\n"
     ]
    }
   ],
   "source": [
    "from platform import python_version\n",
    "print(python_version())"
   ]
  },
  {
   "cell_type": "markdown",
   "metadata": {},
   "source": [
    "# Q3"
   ]
  },
  {
   "cell_type": "code",
   "execution_count": 4,
   "metadata": {},
   "outputs": [
    {
     "name": "stdout",
     "output_type": "stream",
     "text": [
      "Current date and time : \n",
      "31-10-19 16:50:05\n"
     ]
    }
   ],
   "source": [
    "import datetime\n",
    "now = datetime.datetime.now()\n",
    "print (\"Current date and time : \")\n",
    "print(now.strftime(\"%d-%m-%y %H:%M:%S\"))"
   ]
  },
  {
   "cell_type": "markdown",
   "metadata": {},
   "source": [
    "# Q4"
   ]
  },
  {
   "cell_type": "code",
   "execution_count": 8,
   "metadata": {},
   "outputs": [
    {
     "name": "stdout",
     "output_type": "stream",
     "text": [
      "The area calculator\n",
      "Enter the radius of circle 4\n",
      "The area of circle is  :  50.26548245743669\n"
     ]
    }
   ],
   "source": [
    "import math\n",
    "pi= float (math.pi)\n",
    "print(\"The area calculator\")\n",
    "r= float (input(\"Enter the radius of circle \"))\n",
    "area = pi * (r ** 2)\n",
    "print (\"The area of circle is  : \" , area  )"
   ]
  },
  {
   "cell_type": "markdown",
   "metadata": {},
   "source": [
    "# Q5"
   ]
  },
  {
   "cell_type": "code",
   "execution_count": 10,
   "metadata": {},
   "outputs": [
    {
     "name": "stdout",
     "output_type": "stream",
     "text": [
      "Enter your first name omer\n",
      "Enter your last name shahid\n",
      "shahid omer\n"
     ]
    }
   ],
   "source": [
    "f_name= input(\"Enter your first name \")\n",
    "l_name= input(\"Enter your last name \")\n",
    "your_name = l_name + \" \" + f_name\n",
    "print(your_name)"
   ]
  },
  {
   "cell_type": "markdown",
   "metadata": {},
   "source": [
    "# Q6"
   ]
  },
  {
   "cell_type": "code",
   "execution_count": 12,
   "metadata": {},
   "outputs": [
    {
     "name": "stdout",
     "output_type": "stream",
     "text": [
      "Enter first number 24\n",
      "Enter second number 44\n",
      "68\n"
     ]
    }
   ],
   "source": [
    "n1 = int (input(\"Enter first number \"))\n",
    "n2 = int (input(\"Enter second number \"))\n",
    "addition = n1 + n2\n",
    "print(addition)\n"
   ]
  }
 ],
 "metadata": {
  "kernelspec": {
   "display_name": "Python 3",
   "language": "python",
   "name": "python3"
  },
  "language_info": {
   "codemirror_mode": {
    "name": "ipython",
    "version": 3
   },
   "file_extension": ".py",
   "mimetype": "text/x-python",
   "name": "python",
   "nbconvert_exporter": "python",
   "pygments_lexer": "ipython3",
   "version": "3.7.4"
  }
 },
 "nbformat": 4,
 "nbformat_minor": 2
}
