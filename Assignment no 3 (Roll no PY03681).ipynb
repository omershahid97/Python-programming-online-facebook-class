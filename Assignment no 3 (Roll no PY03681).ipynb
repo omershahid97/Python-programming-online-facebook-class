{
 "cells": [
  {
   "cell_type": "markdown",
   "metadata": {},
   "source": [
    "#                              ASSIGNMENT NO 3 (ROLL NO PY03681)"
   ]
  },
  {
   "cell_type": "markdown",
   "metadata": {},
   "source": [
    "# Q1"
   ]
  },
  {
   "cell_type": "code",
   "execution_count": 5,
   "metadata": {},
   "outputs": [
    {
     "name": "stdout",
     "output_type": "stream",
     "text": [
      "Enter the first value  54\n",
      "Enter the operator you want to apply  *\n",
      "Enter the second value  2\n",
      "Answer is  108\n"
     ]
    }
   ],
   "source": [
    "#Make a calculator using Python with addition , subtraction , multiplication ,division and power.\n",
    "\n",
    "\n",
    "val1 = int(input(\"Enter the first value  \"))\n",
    "opr = (input(\"Enter the operator you want to apply  \"))\n",
    "val2 = int(input(\"Enter the second value  \"))\n",
    "\n",
    "if opr == '+' :\n",
    "    ans=val1+val2\n",
    "    print(\"Answer is \" ,ans)\n",
    "\n",
    "elif opr == '-' :\n",
    "    ans=val1-val2\n",
    "    print(\"Answer is \" ,ans)\n",
    "\n",
    "elif opr == '*' :\n",
    "    ans=val1*val2\n",
    "    print(\"Answer is \" ,ans)\n",
    "    \n",
    "elif opr == '/' :\n",
    "    if val2==0:\n",
    "        print(\"The number can't be divided by zero \")\n",
    "    else: \n",
    "        ans=val1/val2\n",
    "        print(\"Answer is \" ,ans)\n",
    "\n",
    "elif opr == '**' :\n",
    "    ans=val1**val2\n",
    "    print(\"Answer is \" ,ans)\n",
    "else:\n",
    "    print(\"You've entered wrong operator or value \")"
   ]
  },
  {
   "cell_type": "markdown",
   "metadata": {},
   "source": [
    "# Q2"
   ]
  },
  {
   "cell_type": "code",
   "execution_count": 1,
   "metadata": {},
   "outputs": [
    {
     "name": "stdout",
     "output_type": "stream",
     "text": [
      "Numeric value in list: 1\n",
      "Numeric value in list: 2\n",
      "Numeric value in list: 4\n",
      "Numeric value in list: 8\n",
      "Numeric value in list: 20\n"
     ]
    }
   ],
   "source": [
    "#Write a program to check if there is any numeric value in list using for loop\n",
    "\n",
    "list=[1,'a','b','c',2,'d',4,8,'r',20]\n",
    "for i in list:\n",
    "    if isinstance(i,int) in list:\n",
    "        print(\"Numeric value in list:\",i)"
   ]
  },
  {
   "cell_type": "markdown",
   "metadata": {},
   "source": [
    "# Q3"
   ]
  },
  {
   "cell_type": "code",
   "execution_count": 4,
   "metadata": {},
   "outputs": [
    {
     "name": "stdout",
     "output_type": "stream",
     "text": [
      "Default Dictionary:\n",
      " {'First Name': 'Omer', 'Last Name': 'Shahid'}\n",
      "After Adding age to a dictionary:\n",
      " {'First Name': 'Omer', 'Last Name': 'Shahid', 'age': 23}\n",
      "After Adding DOB to a dictionary:\n",
      " {'First Name': 'Omer', 'Last Name': 'Shahid', 'age': 23, 'DOB': '28th April'}\n"
     ]
    }
   ],
   "source": [
    "#Write a Python script to add a key to a dictionary\n",
    "\n",
    "dic1 ={\"First Name\":\"Omer\" , \"Last Name\":\"Shahid\",}\n",
    "print(\"Default Dictionary:\\n\",dic1)\n",
    "\n",
    "#Now adding a key to a dictionary\n",
    "\n",
    "dic1[\"age\"] = 23\n",
    "print(\"After Adding age to a dictionary:\\n\",dic1)\n",
    "dic1[\"DOB\"] = '28th April'\n",
    "print(\"After Adding DOB to a dictionary:\\n\",dic1)"
   ]
  },
  {
   "cell_type": "markdown",
   "metadata": {},
   "source": [
    "# Q4"
   ]
  },
  {
   "cell_type": "code",
   "execution_count": 5,
   "metadata": {},
   "outputs": [
    {
     "name": "stdout",
     "output_type": "stream",
     "text": [
      "130\n",
      "220\n",
      "30\n",
      "413\n",
      "332\n",
      "Sum = 1125\n"
     ]
    }
   ],
   "source": [
    "#Write a Python program to sum all the numeric items in a dictionary\n",
    "\n",
    "Today_sale = {\n",
    "    \"Handfree\": 130,\n",
    "    \"Charger\": 220,\n",
    "    \"power bank\": 30,\n",
    "    \"screen protector\":413,\n",
    "    \"Back Cover\":332\n",
    "}\n",
    "sum = 0\n",
    "\n",
    "for i in Today_sale:\n",
    "    print(Today_sale[i])\n",
    "    sum += Today_sale[i]\n",
    "\n",
    "print(\"Sum =\",sum)\n"
   ]
  },
  {
   "cell_type": "markdown",
   "metadata": {},
   "source": [
    "# Q5"
   ]
  },
  {
   "cell_type": "code",
   "execution_count": 6,
   "metadata": {},
   "outputs": [
    {
     "name": "stdout",
     "output_type": "stream",
     "text": [
      "Duplicated values are:\n",
      " [2, 3]\n"
     ]
    }
   ],
   "source": [
    "#Write a program to identify duplicate values in list\n",
    "\n",
    "list = [1,2,2,3,3,4]\n",
    "dup = []\n",
    "size = len(list)\n",
    "\n",
    "\n",
    "for i in range(size):\n",
    "    k = i+1\n",
    "    for j in range(k,size):\n",
    "        if list[i]==list[j] and list[i] not in dup:\n",
    "            dup.append(list[i])\n",
    "print(\"Duplicated values are:\\n\",dup)"
   ]
  },
  {
   "cell_type": "markdown",
   "metadata": {},
   "source": [
    "# Q6"
   ]
  },
  {
   "cell_type": "code",
   "execution_count": 15,
   "metadata": {},
   "outputs": [
    {
     "name": "stdout",
     "output_type": "stream",
     "text": [
      "Enter key: age\n",
      "Enter value: 23\n",
      "{'First Name': 'Omer', 'Last Name': 'Shahid', 'Age': '23'}\n"
     ]
    }
   ],
   "source": [
    "#6. Write a Python script to check if a given key already exists in a dictionary\n",
    "dic1 = {\n",
    "    \"First Name\":\"Omer\",\n",
    "    \"Last Name\":\"Shahid\",\n",
    "}\n",
    "\n",
    "key = input(\"Enter key: \")\n",
    "key = key.title()\n",
    "value = input(\"Enter value: \")\n",
    "\n",
    "if key not in dic1.keys():\n",
    "    dic1[key]=value\n",
    "    print(dic1)\n",
    "else:\n",
    "    print(\"Key Already Exist\")"
   ]
  }
 ],
 "metadata": {
  "kernelspec": {
   "display_name": "Python 3",
   "language": "python",
   "name": "python3"
  },
  "language_info": {
   "codemirror_mode": {
    "name": "ipython",
    "version": 3
   },
   "file_extension": ".py",
   "mimetype": "text/x-python",
   "name": "python",
   "nbconvert_exporter": "python",
   "pygments_lexer": "ipython3",
   "version": "3.7.4"
  }
 },
 "nbformat": 4,
 "nbformat_minor": 2
}
